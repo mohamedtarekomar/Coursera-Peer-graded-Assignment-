{
 "cells": [
  {
   "cell_type": "code",
   "execution_count": 1,
   "id": "8de04a96",
   "metadata": {},
   "outputs": [
    {
     "name": "stdout",
     "output_type": "stream",
     "text": [
      "hello me\n"
     ]
    }
   ],
   "source": [
    "print(\"hello me\")"
   ]
  },
  {
   "cell_type": "markdown",
   "id": "5fe6d688",
   "metadata": {},
   "source": [
    "# Peer-graded Assignment(title of the notebook)\n"
   ]
  },
  {
   "cell_type": "markdown",
   "id": "33d72a87",
   "metadata": {},
   "source": [
    "# Introduction \n",
    "this notebook will be about the Peer-graded Assignment that includes 12 excercise with 25 points. "
   ]
  },
  {
   "cell_type": "markdown",
   "id": "67b3645a",
   "metadata": {},
   "source": [
    "# Data science languages :-\n",
    " - Python\n",
    " - R\n",
    " - SQL\n",
    " - Java\n",
    " - Julia\n",
    " - Scala\n",
    " - C/C++\n",
    " - JavaScript\n",
    " - Go\n",
    " - weka\n",
    " - Deeplearning4"
   ]
  },
  {
   "cell_type": "markdown",
   "id": "ccba67c4",
   "metadata": {},
   "source": [
    "# Data science libraries :-\n",
    " - TensorFlow\n",
    " - NumPy\n",
    " - SciPy \n",
    " - Pandas\n",
    " - Matplotlib \n",
    " - SciKit-Learn\n",
    " - PyTorch\n",
    " - Scrapy\n",
    " - ggplot2\n",
    " - Lattice\n",
    " - Leaflet\n",
    " - Plotly"
   ]
  },
  {
   "cell_type": "markdown",
   "id": "3b8c762c",
   "metadata": {},
   "source": [
    "# Data science tools :-\n",
    " - watson studio\n",
    " - Apache Spark\n",
    " - Hadoop\n",
    " - excel\n",
    " - Microsoft power bi\n",
    " - Tableau\n",
    " - Google Analytics\n",
    " - Apache Flink"
   ]
  },
  {
   "cell_type": "code",
   "execution_count": 1,
   "id": "cf78602a",
   "metadata": {},
   "outputs": [
    {
     "name": "stdout",
     "output_type": "stream",
     "text": [
      "5\n"
     ]
    }
   ],
   "source": [
    "result = 10 - 5\n",
    "print(result)  # Output: 5\n"
   ]
  },
  {
   "cell_type": "code",
   "execution_count": 2,
   "id": "354714f9",
   "metadata": {},
   "outputs": [
    {
     "name": "stdout",
     "output_type": "stream",
     "text": [
      "50\n"
     ]
    }
   ],
   "source": [
    "result = 10 * 5\n",
    "print(result) "
   ]
  },
  {
   "cell_type": "code",
   "execution_count": 3,
   "id": "6047243c",
   "metadata": {},
   "outputs": [
    {
     "name": "stdout",
     "output_type": "stream",
     "text": [
      "15\n"
     ]
    }
   ],
   "source": [
    "result = 10 + 5\n",
    "print(result) "
   ]
  },
  {
   "cell_type": "code",
   "execution_count": 5,
   "id": "5e4218b8",
   "metadata": {},
   "outputs": [
    {
     "name": "stdout",
     "output_type": "stream",
     "text": [
      "2.0\n"
     ]
    }
   ],
   "source": [
    "minutes = 120\n",
    "hours = minutes / 60\n",
    "\n",
    "print(hours)"
   ]
  },
  {
   "cell_type": "markdown",
   "id": "42a1e0f7",
   "metadata": {},
   "source": [
    "## the Author's name is Mohammad Tarek Omar"
   ]
  },
  {
   "cell_type": "markdown",
   "id": "b9107db9",
   "metadata": {},
   "source": [
    "## Objectives\n",
    "\n",
    "- Objective 1:\n",
    "- Objective 2:\n",
    "- Objective 3: "
   ]
  },
  {
   "cell_type": "code",
   "execution_count": null,
   "id": "05e02ada",
   "metadata": {},
   "outputs": [],
   "source": []
  }
 ],
 "metadata": {
  "kernelspec": {
   "display_name": "Python 3 (ipykernel)",
   "language": "python",
   "name": "python3"
  },
  "language_info": {
   "codemirror_mode": {
    "name": "ipython",
    "version": 3
   },
   "file_extension": ".py",
   "mimetype": "text/x-python",
   "name": "python",
   "nbconvert_exporter": "python",
   "pygments_lexer": "ipython3",
   "version": "3.9.12"
  }
 },
 "nbformat": 4,
 "nbformat_minor": 5
}
